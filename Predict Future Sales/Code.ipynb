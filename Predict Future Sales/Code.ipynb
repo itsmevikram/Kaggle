{
 "cells": [
  {
   "cell_type": "markdown",
   "metadata": {},
   "source": [
    "Importing Libraries "
   ]
  },
  {
   "cell_type": "code",
   "execution_count": null,
   "metadata": {},
   "outputs": [],
   "source": [
    "import pandas as pd\n",
    "import matplotlib.pyplot as plt\n",
    "import seaborn as sns\n",
    "from sklearn.model_selection import train_test_split as tts\n",
    "from sklearn.linear_model import LinearRegression,Lasso,Ridge\n",
    "from sklearn.ensemble import RandomForestRegressor,GradientBoostingRegressor\n",
    "from sklearn.tree import DecisionTreeRegressor\n",
    "from sklearn.metrics import r2_score,mean_squared_error"
   ]
  },
  {
   "cell_type": "markdown",
   "metadata": {},
   "source": [
    "Loading all the datasets "
   ]
  },
  {
   "cell_type": "code",
   "execution_count": null,
   "metadata": {},
   "outputs": [],
   "source": [
    "train=pd.read_csv('D:/Kaggle/Predict Future Sales/sales_train.csv')\n",
    "test=pd.read_csv('D:/Kaggle/Predict Future Sales/test.csv')\n",
    "itm_cat=pd.read_csv('D:/Kaggle/Predict Future Sales/item_categories.csv')\n",
    "itms=pd.read_csv('D:/Kaggle/Predict Future Sales/items.csv')\n",
    "shops=pd.read_csv('D:/Kaggle/Predict Future Sales/shops.csv')\n",
    "train.head()"
   ]
  },
  {
   "cell_type": "code",
   "execution_count": null,
   "metadata": {
    "scrolled": false
   },
   "outputs": [],
   "source": [
    "test.head()"
   ]
  },
  {
   "cell_type": "markdown",
   "metadata": {},
   "source": [
    "Checking for NaNs"
   ]
  },
  {
   "cell_type": "code",
   "execution_count": null,
   "metadata": {
    "scrolled": true
   },
   "outputs": [],
   "source": [
    "train.isnull().sum()"
   ]
  },
  {
   "cell_type": "markdown",
   "metadata": {},
   "source": [
    "Modification of the date feature as Prediction is expected by months"
   ]
  },
  {
   "cell_type": "code",
   "execution_count": null,
   "metadata": {},
   "outputs": [],
   "source": [
    "train['date']=pd.to_datetime(train['date'])\n",
    "train['date']=train['date'].apply(lambda strp: strp.strftime('%Y-%m'))"
   ]
  },
  {
   "cell_type": "markdown",
   "metadata": {},
   "source": [
    "Dropping these columns as it won't be necessary since these are not independent feature to predict the test data."
   ]
  },
  {
   "cell_type": "code",
   "execution_count": null,
   "metadata": {},
   "outputs": [],
   "source": [
    "train.drop(columns=['date_block_num','item_price'],inplace=True)"
   ]
  },
  {
   "cell_type": "code",
   "execution_count": null,
   "metadata": {
    "scrolled": true
   },
   "outputs": [],
   "source": [
    "train.head()"
   ]
  },
  {
   "cell_type": "code",
   "execution_count": null,
   "metadata": {},
   "outputs": [],
   "source": [
    "train.tail()"
   ]
  },
  {
   "cell_type": "markdown",
   "metadata": {},
   "source": [
    "Transforming the table"
   ]
  },
  {
   "cell_type": "code",
   "execution_count": null,
   "metadata": {
    "scrolled": false
   },
   "outputs": [],
   "source": [
    "new_train=train.groupby(['date','shop_id','item_id']).sum()\n",
    "new_train=new_train.pivot_table(index=['shop_id','item_id'], columns='date', values='item_cnt_day', fill_value=0)\n",
    "new_train.reset_index(inplace=True)\n",
    "pd.set_option('display.max_columns',40)\n",
    "new_train.head()"
   ]
  },
  {
   "cell_type": "markdown",
   "metadata": {},
   "source": [
    "Now we perform left join of the test data refering to the shop and item id feature keeping the unpredicted test data as 0"
   ]
  },
  {
   "cell_type": "code",
   "execution_count": null,
   "metadata": {
    "scrolled": false
   },
   "outputs": [],
   "source": [
    "test=pd.merge(test,new_train,on=['shop_id','item_id'],how='left')\n",
    "test.drop(['ID','2013-01'],axis=1,inplace=True)\n",
    "test=test.fillna(0)\n",
    "test.head()"
   ]
  },
  {
   "cell_type": "markdown",
   "metadata": {},
   "source": [
    "Perdorming Train test split "
   ]
  },
  {
   "cell_type": "code",
   "execution_count": null,
   "metadata": {},
   "outputs": [],
   "source": [
    "ytrain=new_train['2015-10'].values\n",
    "xtrain=new_train.drop(['2015-10'],axis = 1)\n",
    "xtest=test"
   ]
  },
  {
   "cell_type": "code",
   "execution_count": null,
   "metadata": {},
   "outputs": [],
   "source": [
    "xtrain,xtest,ytrain,ytest=tts(xtrain,ytrain,test_size=0.2,random_state=101)"
   ]
  },
  {
   "cell_type": "markdown",
   "metadata": {},
   "source": [
    "Linear Models Linear,Lasso and Ridge Regression"
   ]
  },
  {
   "cell_type": "code",
   "execution_count": null,
   "metadata": {},
   "outputs": [],
   "source": [
    "lr_model=LinearRegression(normalize=True).fit(xtrain,ytrain)\n",
    "lr_y_pred=lr_model.predict(xtest)\n",
    "print('Linear Training  mse:',mean_squared_error(ytrain,lr_model.predict(xtrain)))\n",
    "print('Linear Test mse:',mean_squared_error(ytest,lr_model.predict(xtest)))\n",
    "print('Linear Test score:',lr_model.score(xtrain,ytrain))\n",
    "lasso_model=Lasso(alpha=0.1).fit(xtrain,ytrain)\n",
    "ls_y_pred=lasso_model.predict(xtest)\n",
    "print('Lasso Training  mse:',mean_squared_error(ytrain,lasso_model.predict(xtrain)))\n",
    "print('Lasso Test mse:',mean_squared_error(ytest,lasso_model.predict(xtest)))\n",
    "print('Lasso Test score:',lasso_model.score(xtrain,ytrain))\n",
    "ridge_model=Ridge(alpha=0.5).fit(xtrain,ytrain)\n",
    "rd_y_pred=ridge_model.predict(xtest)\n",
    "print('Ridge Training  mse:',mean_squared_error(ytrain,ridge_model.predict(xtrain)))\n",
    "print('RidgeTest mse:',mean_squared_error(ytest,ridge_model.predict(xtest)))\n",
    "print('Ridge Test score:',ridge_model.score(xtrain,ytrain))"
   ]
  },
  {
   "cell_type": "markdown",
   "metadata": {},
   "source": [
    "Ensembles Random Forest and Gradient Boosting"
   ]
  },
  {
   "cell_type": "code",
   "execution_count": null,
   "metadata": {},
   "outputs": [],
   "source": [
    "rfr_model=RandomForestRegressor(n_estimators=100,criterion='mse').fit(xtrain,ytrain)\n",
    "rfr_y_pred=rfr_model.predict(xtest)\n",
    "print('Random Forest Training  mse:',mean_squared_error(ytrain,rfr_model.predict(xtrain)))\n",
    "print('Random Forest Test mse:',mean_squared_error(ytest,rfr_model.predict(xtest)))\n",
    "print('Random Forest Test score:',rfr_model.score(xtrain,ytrain))\n",
    "gbr_model=GradientBoostingRegressor(n_estimators=100,criterion='mse').fit(xtrain,ytrain)\n",
    "gbr_y_pred=gbr_model.predict(xtest)\n",
    "print('GBR Training  mse:',mean_squared_error(ytrain,gbr_model.predict(xtrain)))\n",
    "print('GBR Test mse:',mean_squared_error(ytest,gbr_model.predict(xtest)))\n",
    "print('GBR Test score:',gbr_model.score(xtrain,ytrain))"
   ]
  },
  {
   "cell_type": "code",
   "execution_count": null,
   "metadata": {},
   "outputs": [],
   "source": [
    "prediction=list(map(round,gbr_y_pred))\n",
    "final_test=pd.read_csv('D:/Kaggle/Predict Future Sales/test.csv')\n",
    "solution=pd.DataFrame({'item_cnt_day':prediction})\n",
    "solution_final=pd.concat([final_test,solution],axis=1)\n",
    "solution_final.head()"
   ]
  },
  {
   "cell_type": "code",
   "execution_count": null,
   "metadata": {},
   "outputs": [],
   "source": [
    "solution_file=solution_final.to_csv('D:/Kaggle/Predict Future Sales/submission.csv')"
   ]
  },
  {
   "cell_type": "code",
   "execution_count": null,
   "metadata": {},
   "outputs": [],
   "source": []
  }
 ],
 "metadata": {
  "kernelspec": {
   "display_name": "Python 3",
   "language": "python",
   "name": "python3"
  },
  "language_info": {
   "codemirror_mode": {
    "name": "ipython",
    "version": 3
   },
   "file_extension": ".py",
   "mimetype": "text/x-python",
   "name": "python",
   "nbconvert_exporter": "python",
   "pygments_lexer": "ipython3",
   "version": "3.8.5"
  }
 },
 "nbformat": 4,
 "nbformat_minor": 4
}
